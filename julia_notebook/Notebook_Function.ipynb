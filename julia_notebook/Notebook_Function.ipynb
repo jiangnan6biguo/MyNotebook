{
 "cells": [
  {
   "cell_type": "markdown",
   "id": "3e357da2",
   "metadata": {},
   "source": [
    "# This Notebook introduce some notice while using functions"
   ]
  },
  {
   "cell_type": "markdown",
   "id": "2d63a823",
   "metadata": {},
   "source": [
    "## Composition and pip of function<br>\n",
    "<font color=\"black\" size=4>\n",
    "If two functions are used one by one, one can use the operator \\circ\\tab<br>\n",
    "f(g(x)) = (f \\circ g)(x)<br>\n",
    "For example\n",
    "</font>"
   ]
  },
  {
   "cell_type": "code",
   "execution_count": 1,
   "id": "b60e42b2",
   "metadata": {},
   "outputs": [
    {
     "data": {
      "text/plain": [
       "6.324555320336759"
      ]
     },
     "execution_count": 1,
     "metadata": {},
     "output_type": "execute_result"
    }
   ],
   "source": [
    "(sqrt ∘ +)(10,30)"
   ]
  },
  {
   "cell_type": "markdown",
   "id": "5b4b45fa",
   "metadata": {},
   "source": [
    "<font color=\"blue\">\n",
    "Combining with \"map\" function\n",
    "</font>"
   ]
  },
  {
   "cell_type": "code",
   "execution_count": 6,
   "id": "081906db",
   "metadata": {},
   "outputs": [
    {
     "data": {
      "text/plain": [
       "5-element Vector{Char}:\n",
       " 'Y': ASCII/Unicode U+0059 (category Lu: Letter, uppercase)\n",
       " 'C': ASCII/Unicode U+0043 (category Lu: Letter, uppercase)\n",
       " 'U': ASCII/Unicode U+0055 (category Lu: Letter, uppercase)\n",
       " 'S': ASCII/Unicode U+0053 (category Lu: Letter, uppercase)\n",
       " 'F': ASCII/Unicode U+0046 (category Lu: Letter, uppercase)"
      ]
     },
     "execution_count": 6,
     "metadata": {},
     "output_type": "execute_result"
    }
   ],
   "source": [
    "map(first∘uppercase ,split(\"you can use split functions\"))"
   ]
  },
  {
   "cell_type": "markdown",
   "id": "b71a612f",
   "metadata": {},
   "source": [
    "## Varargs Functions<br>\n",
    "Varargs is short for \"Variable numbers of arguments\". This kind of functions are used when the number of input variables not fixed<br>\n",
    "This can be used as<br>\n",
    "<font color=red>\n",
    "function f(a,b,x...)<br>\n",
    "pass<br>\n",
    "end</font>\n",
    "<br>\n",
    "The extra variables will be collected in a tuple"
   ]
  },
  {
   "cell_type": "code",
   "execution_count": 9,
   "id": "0013048d",
   "metadata": {},
   "outputs": [
    {
     "data": {
      "text/plain": [
       "f (generic function with 1 method)"
      ]
     },
     "execution_count": 9,
     "metadata": {},
     "output_type": "execute_result"
    }
   ],
   "source": [
    "function f(a,b,x...)\n",
    "    print(a,b,x)\n",
    "end"
   ]
  },
  {
   "cell_type": "markdown",
   "id": "339543fe",
   "metadata": {},
   "source": [
    "<font size=4>\n",
    "Several examples are given\n",
    "</font>"
   ]
  },
  {
   "cell_type": "code",
   "execution_count": 17,
   "id": "f038a924",
   "metadata": {},
   "outputs": [
    {
     "name": "stdout",
     "output_type": "stream",
     "text": [
      "12(3, 3, 44, 5)\n",
      "12(3, 4, 5, 6, [3, 3, 44, 5])\n",
      "12(3, 4, 5, 6, 3, 3, 44, 5)"
     ]
    }
   ],
   "source": [
    "x=[3,3,44,5]\n",
    "f(1,2,x...)\n",
    "print(\"\\n\")\n",
    "f(1,2,3,4,5,6,x)\n",
    "print(\"\\n\")\n",
    "f(1,2,3,4,5,6,x...)"
   ]
  },
  {
   "cell_type": "markdown",
   "id": "b16bac08",
   "metadata": {},
   "source": [
    "## Keywords  arguments can also use Varargs"
   ]
  },
  {
   "cell_type": "code",
   "execution_count": 20,
   "id": "7234f20d",
   "metadata": {},
   "outputs": [
    {
     "data": {
      "text/plain": [
       "f (generic function with 2 methods)"
      ]
     },
     "execution_count": 20,
     "metadata": {},
     "output_type": "execute_result"
    }
   ],
   "source": [
    "function f(x,y;name=\"hello\",keywords...)\n",
    "    print(keywords)\n",
    "end"
   ]
  },
  {
   "cell_type": "code",
   "execution_count": 25,
   "id": "23b9dc5e",
   "metadata": {},
   "outputs": [
    {
     "name": "stdout",
     "output_type": "stream",
     "text": [
      "Base.Pairs(:Area => \"china\")"
     ]
    }
   ],
   "source": [
    "f(2,3;Area= \"china\")"
   ]
  },
  {
   "cell_type": "code",
   "execution_count": null,
   "id": "fa604376",
   "metadata": {},
   "outputs": [],
   "source": []
  }
 ],
 "metadata": {
  "kernelspec": {
   "display_name": "Julia 1.7.0-rc1",
   "language": "julia",
   "name": "julia-1.7"
  },
  "language_info": {
   "file_extension": ".jl",
   "mimetype": "application/julia",
   "name": "julia",
   "version": "1.7.0"
  }
 },
 "nbformat": 4,
 "nbformat_minor": 5
}
