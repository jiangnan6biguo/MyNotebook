{
 "cells": [
  {
   "cell_type": "markdown",
   "id": "5db85b79",
   "metadata": {},
   "source": [
    "# This notebook will introduce how to use Markdown in Jupyter\n",
    "\n",
    "\n",
    "Here list some Basic elements\n",
    "\n",
    "1.First level title\n",
    "\n",
    "# 1.First level title\n",
    "\n",
    "2.Second level title\n",
    "\n",
    "## 2.Second level title\n",
    "\n",
    "3.List without index\n",
    "\n",
    "* List without index\n",
    "* List without index\n",
    "\n",
    "4.List with index\n",
    "\n",
    "1. **List with index**\n",
    "2. **List with index2**\n",
    "3. **List with index3**\n",
    "\n",
    "If you want to see the original code of these Markdown, click this block twice.\n",
    "\n",
    "If you want to show the final result, run this block"
   ]
  },
  {
   "cell_type": "code",
   "execution_count": 3,
   "id": "0d0a083d",
   "metadata": {},
   "outputs": [],
   "source": [
    "#using Pkg   #If you have not install LaTeXStrings yet, please run these two codes here\n",
    "#Pkg.add(\"LaTeXStrings\")\n",
    "using LaTeXStrings"
   ]
  },
  {
   "cell_type": "markdown",
   "id": "a3a0a5b6",
   "metadata": {},
   "source": [
    "One can use the Latex in Markdown\n",
    "\n",
    "For example:\n",
    "\n",
    "$$a^5$$\n",
    "\n",
    "If you want to use Latex strings in Code line, just using LaTeXStrings\n",
    "\n",
    "and\n",
    "\n",
    "\"\\your strings\" + \"tab\"\n",
    "\n",
    "For example:"
   ]
  },
  {
   "cell_type": "code",
   "execution_count": 6,
   "id": "1771b6e1",
   "metadata": {},
   "outputs": [
    {
     "data": {
      "text/plain": [
       "5"
      ]
     },
     "execution_count": 6,
     "metadata": {},
     "output_type": "execute_result"
    }
   ],
   "source": [
    "α=5"
   ]
  },
  {
   "cell_type": "markdown",
   "id": "82521daa",
   "metadata": {},
   "source": [
    "<font color = \"red\" >\n",
    "    We can change the color of our Markdown. For example\n",
    "    </font>\n",
    "\n",
    "\n",
    "We can also change the size of our Markdown\n",
    "\n",
    "<br>\n",
    "\n",
    "<font color = \"green\" size=4 >\n",
    "    Green Markdown, font size = 4\n",
    "    </font>\n",
    "    \n",
    "<br>"
   ]
  },
  {
   "cell_type": "markdown",
   "id": "d1cc508d",
   "metadata": {},
   "source": [
    "## How to make a new line\n",
    "\n",
    "We can use \\<br\\> to make a new line"
   ]
  },
  {
   "cell_type": "code",
   "execution_count": null,
   "id": "69e241fe",
   "metadata": {},
   "outputs": [],
   "source": []
  }
 ],
 "metadata": {
  "kernelspec": {
   "display_name": "Julia 1.6.1",
   "language": "julia",
   "name": "julia-1.6"
  },
  "language_info": {
   "file_extension": ".jl",
   "mimetype": "application/julia",
   "name": "julia",
   "version": "1.6.1"
  }
 },
 "nbformat": 4,
 "nbformat_minor": 5
}
