{
 "cells": [
  {
   "cell_type": "markdown",
   "id": "c26a3d1e",
   "metadata": {},
   "source": [
    "# This Notebook will introduce some useful function when dealing with data\n",
    "\n",
    "# May be an improvement to data dealing ability\n",
    "\n",
    "<br>\n",
    "<font color=\"blue\" size=4>\n",
    "    If we want to use shell commands in jupyter, we can use  \";command\"\n",
    "    \n",
    "<font>"
   ]
  },
  {
   "cell_type": "code",
   "execution_count": 6,
   "id": "5bf2cbe6",
   "metadata": {},
   "outputs": [
    {
     "name": "stdout",
     "output_type": "stream",
     "text": [
      "example_file\n",
      "Notebook_DataScience.ipynb\n",
      "Notebook_gif.ipynb\n",
      "Notebook_Markdown.ipynb\n",
      "README.txt\n"
     ]
    }
   ],
   "source": [
    ";'ls'"
   ]
  },
  {
   "cell_type": "markdown",
   "id": "541ff7fd",
   "metadata": {},
   "source": [
    "# Here we will introduce some function dealing with strings\n",
    "\n",
    "\n",
    "If you want to transform a string into lowercase"
   ]
  },
  {
   "cell_type": "code",
   "execution_count": 7,
   "id": "18935157",
   "metadata": {},
   "outputs": [
    {
     "data": {
      "text/plain": [
       "\"hello\""
      ]
     },
     "execution_count": 7,
     "metadata": {},
     "output_type": "execute_result"
    }
   ],
   "source": [
    "lowercase.(\"Hello\")"
   ]
  },
  {
   "cell_type": "markdown",
   "id": "e38cf212",
   "metadata": {},
   "source": [
    "## Here are some functions introduced in documentations\n",
    "<br>\n",
    "<font color=\"blue\" size=4>\n",
    "    1.The Index of strings<br>\n",
    "    2.The concatenation of two strings (Attach two strings together)<br>\n",
    "    3.The interpolation of strings<br>\n",
    "</font>\n",
    "    <br>\n",
    "<font color=\"black\" size=4>\n",
    "* Index \n",
    "    <br>\n",
    "    Here we can use the \"begin\" and \"end\" to identify the first and last elements. <br>\n",
    "    We can also use \"firstindex\" and \"lastindex\" to catch the dimension of strings\n",
    "    </font>"
   ]
  },
  {
   "cell_type": "code",
   "execution_count": 19,
   "id": "569719b1",
   "metadata": {},
   "outputs": [
    {
     "name": "stdout",
     "output_type": "stream",
     "text": [
      "The begin of name and end of country is: R  a\n",
      "The first index of name is: 1 and the last index of name is: 7\n"
     ]
    }
   ],
   "source": [
    "name = \"Richard\"\n",
    "country = \"China\"\n",
    "print(\"The begin of name and end of country is: \",name[begin],\"  \",country[end],\"\\n\")\n",
    "print(\"The first index of name is: \",firstindex(name),\" and the last index of name is: \",lastindex(name),\"\\n\")"
   ]
  },
  {
   "cell_type": "markdown",
   "id": "68cb4262",
   "metadata": {},
   "source": [
    "<font color=\"blue\" size=4>\n",
    "These functions are also valid for Vector or Matrix\n",
    "<font>"
   ]
  },
  {
   "cell_type": "code",
   "execution_count": 21,
   "id": "34002821",
   "metadata": {},
   "outputs": [
    {
     "name": "stdout",
     "output_type": "stream",
     "text": [
      "The begin and the end of example_mat is: 0.1923668835090484 0.4440257602202494\n",
      "The first and last index of example_mat is: 1 27"
     ]
    }
   ],
   "source": [
    "example_mat = rand(3,9)\n",
    "print(\"The begin and the end of example_mat is: \", example_mat[begin], \" \",example_mat[end],\"\\n\")\n",
    "print(\"The first and last index of example_mat is: \", firstindex(example_mat),\" \",lastindex(example_mat))"
   ]
  },
  {
   "cell_type": "markdown",
   "id": "eb49b691",
   "metadata": {},
   "source": [
    "<font color=\"blue\" size=4>\n",
    "Concatenation of two strings\n",
    "</font> \n",
    "\n",
    "<br>\n",
    "One can use the function \"string\" to combine several strings <br>\n",
    "Operator \"*\" is also useful"
   ]
  },
  {
   "cell_type": "code",
   "execution_count": 28,
   "id": "02662424",
   "metadata": {},
   "outputs": [
    {
     "name": "stdout",
     "output_type": "stream",
     "text": [
      "My name is: Richard And my country is: China\n",
      "My name is Richard And my country is China\n"
     ]
    }
   ],
   "source": [
    "print(string(\"My name is: \",name,\" And my country is: \",country,\"\\n\"))\n",
    "print(\"My name is \"*name*\" And my country is \"*country*\"\\n\")"
   ]
  },
  {
   "cell_type": "markdown",
   "id": "4b81ee69",
   "metadata": {},
   "source": [
    "<font color=\"blue\" size=4>\n",
    "Interpolation of string\n",
    "    </font>\n",
    "<br>\n",
    "Quite similiar to shell script, one can use \"strings $Var strings\" to use the vairables"
   ]
  },
  {
   "cell_type": "code",
   "execution_count": 27,
   "id": "1b6f2919",
   "metadata": {},
   "outputs": [
    {
     "data": {
      "text/plain": [
       "\"My Name is Richard\""
      ]
     },
     "execution_count": 27,
     "metadata": {},
     "output_type": "execute_result"
    }
   ],
   "source": [
    "\"My Name is $name\""
   ]
  },
  {
   "cell_type": "code",
   "execution_count": null,
   "id": "10d8614e",
   "metadata": {},
   "outputs": [],
   "source": []
  }
 ],
 "metadata": {
  "kernelspec": {
   "display_name": "Julia 1.7.0-rc1",
   "language": "julia",
   "name": "julia-1.7"
  },
  "language_info": {
   "file_extension": ".jl",
   "mimetype": "application/julia",
   "name": "julia",
   "version": "1.7.0"
  }
 },
 "nbformat": 4,
 "nbformat_minor": 5
}
