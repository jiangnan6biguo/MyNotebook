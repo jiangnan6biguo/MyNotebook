{
 "cells": [
  {
   "cell_type": "markdown",
   "id": "c26a3d1e",
   "metadata": {},
   "source": [
    "# This Notebook will introduce some useful function when dealing with data\n",
    "\n",
    "# May be an improvement to data dealing ability\n",
    "\n",
    "<br>\n",
    "<font color=\"blue\" size=4>\n",
    "    If we want to use shell commands in jupyter, we can use  \";command\"\n",
    "    \n",
    "<font>"
   ]
  },
  {
   "cell_type": "code",
   "execution_count": 10,
   "id": "5bf2cbe6",
   "metadata": {},
   "outputs": [
    {
     "name": "stdout",
     "output_type": "stream",
     "text": [
      "example_file\n",
      "Notebook_DataScience.ipynb\n",
      "Notebook_gif.ipynb\n",
      "Notebook_Markdown.ipynb\n",
      "README.txt\n"
     ]
    }
   ],
   "source": [
    ";'ls'"
   ]
  },
  {
   "cell_type": "markdown",
   "id": "541ff7fd",
   "metadata": {},
   "source": [
    "# Here we will introduce some function dealing with strings\n",
    "\n",
    "\n",
    "If you want to transform a string into lowercase"
   ]
  },
  {
   "cell_type": "code",
   "execution_count": 1,
   "id": "18935157",
   "metadata": {},
   "outputs": [
    {
     "data": {
      "text/plain": [
       "\"hello\""
      ]
     },
     "execution_count": 1,
     "metadata": {},
     "output_type": "execute_result"
    }
   ],
   "source": [
    "lowercase.(\"Hello\")"
   ]
  },
  {
   "cell_type": "code",
   "execution_count": 2,
   "id": "cd9d2467",
   "metadata": {},
   "outputs": [
    {
     "ename": "LoadError",
     "evalue": "HTTP/1.1 404 Not Found while requesting http://example.com/passkey=wedsmdjsjmdd",
     "output_type": "error",
     "traceback": [
      "HTTP/1.1 404 Not Found while requesting http://example.com/passkey=wedsmdjsjmdd",
      "",
      "Stacktrace:",
      "  [1] (::Downloads.var\"#3#4\"{Nothing, Vector{Pair{String, String}}, Float64, Nothing, Bool, Nothing, String})(output::IOStream)",
      "    @ Downloads /buildworker/worker/package_linux64/build/usr/share/julia/stdlib/v1.6/Downloads/src/Downloads.jl:220",
      "  [2] open(f::Downloads.var\"#3#4\"{Nothing, Vector{Pair{String, String}}, Float64, Nothing, Bool, Nothing, String}, args::String; kwargs::Base.Iterators.Pairs{Symbol, Bool, Tuple{Symbol}, NamedTuple{(:write,), Tuple{Bool}}})",
      "    @ Base ./io.jl:330",
      "  [3] arg_write(f::Function, arg::String)",
      "    @ ArgTools /buildworker/worker/package_linux64/build/usr/share/julia/stdlib/v1.6/ArgTools/src/ArgTools.jl:86",
      "  [4] #download#2",
      "    @ /buildworker/worker/package_linux64/build/usr/share/julia/stdlib/v1.6/Downloads/src/Downloads.jl:208 [inlined]",
      "  [5] download(url::String, output::String)",
      "    @ Downloads /buildworker/worker/package_linux64/build/usr/share/julia/stdlib/v1.6/Downloads/src/Downloads.jl:208",
      "  [6] #invokelatest#2",
      "    @ ./essentials.jl:708 [inlined]",
      "  [7] invokelatest",
      "    @ ./essentials.jl:706 [inlined]",
      "  [8] do_download",
      "    @ ./download.jl:33 [inlined]",
      "  [9] download(url::String, path::String)",
      "    @ Base ./download.jl:28",
      " [10] top-level scope",
      "    @ In[2]:1",
      " [11] eval",
      "    @ ./boot.jl:360 [inlined]",
      " [12] include_string(mapexpr::typeof(REPL.softscope), mod::Module, code::String, filename::String)",
      "    @ Base ./loading.jl:1094"
     ]
    }
   ],
   "source": [
    "#download(\"http://example.com/passkey=wedsmdjsjmdd\",\"rb\")"
   ]
  },
  {
   "cell_type": "code",
   "execution_count": null,
   "id": "569719b1",
   "metadata": {},
   "outputs": [],
   "source": []
  }
 ],
 "metadata": {
  "kernelspec": {
   "display_name": "Julia 1.6.1",
   "language": "julia",
   "name": "julia-1.6"
  },
  "language_info": {
   "file_extension": ".jl",
   "mimetype": "application/julia",
   "name": "julia",
   "version": "1.6.1"
  }
 },
 "nbformat": 4,
 "nbformat_minor": 5
}
